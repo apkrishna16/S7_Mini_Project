{
 "cells": [
  {
   "cell_type": "code",
   "execution_count": null,
   "metadata": {},
   "outputs": [],
   "source": [
    "# Import necessary libraries and modules\n",
    "import os   \n",
    "from langchain_huggingface import HuggingFaceEmbeddings\n",
    "from sentence_transformers import SentenceTransformer\n",
    "import chromadb\n",
    "from langchain_experimental.text_splitter import SemanticChunker \n",
    "from chromadb.config import DEFAULT_TENANT, DEFAULT_DATABASE, Settings"
   ]
  },
  {
   "cell_type": "code",
   "execution_count": null,
   "metadata": {},
   "outputs": [],
   "source": [
    "# Directory path for text judgments\n",
    "TXT_DIRECTORY = 'Judgement_txt' \n",
    "# Variable for collection name\n",
    "COLLECTION_NAME = \"legal_judgments\"  \n",
    "\n",
    "# Initialize models for embedding, semantic chunking and encoding\n",
    "embedding_model = HuggingFaceEmbeddings(model_name=\"all-MiniLM-L6-v2\")   \n",
    "encoder_model = SentenceTransformer('sentence-transformers/all-MiniLM-L6-v2')   \n",
    "semantic_chunker = SemanticChunker(embedding_model)   "
   ]
  },
  {
   "cell_type": "code",
   "execution_count": null,
   "metadata": {},
   "outputs": [],
   "source": [
    "def init_chromadb(collection_name):\n",
    "    \"\"\"\n",
    "    Initializes ChromaDB with persistence settings.\n",
    "\n",
    "    Parameters:\n",
    "    - collection_name: Name of the collection to initialize in ChromaDB.\n",
    "\n",
    "    Output:\n",
    "    - Returns an initialized collection from ChromaDB.\n",
    "    \"\"\"\n",
    "    client = chromadb.Client(Settings(is_persistent=True, persist_directory='./chromadb'))   \n",
    "    collection = client.get_or_create_collection(collection_name)\n",
    "    print(f\"ChromaDB initialized and collection '{collection_name}' ready\")\n",
    "    return collection"
   ]
  },
  {
   "cell_type": "code",
   "execution_count": null,
   "metadata": {},
   "outputs": [],
   "source": [
    "def add_documents_to_chromadb(collection, txt_directory, encoder_model, semantic_chunker):\n",
    "    \"\"\"\n",
    "    Adds documents to ChromaDB after semantic chunking.\n",
    "\n",
    "    Parameters:\n",
    "    - collection: The ChromaDB collection where documents are added.\n",
    "    - txt_directory: Directory containing judgment text files.\n",
    "    - encoder_model: Sentence transformer model for encoding chunks.\n",
    "    - semantic_chunker: Object for semantic chunking of documents.\n",
    "\n",
    "    Output:\n",
    "    - None\n",
    "    \"\"\"\n",
    "    for filename in os.listdir(txt_directory):\n",
    "        if filename.endswith(\".txt\"):\n",
    "            file_path = os.path.join(txt_directory, filename)\n",
    " \n",
    "            with open(file_path, 'r', encoding='utf-8') as file:\n",
    "                judgment_text = file.read()\n",
    " \n",
    "            docs = semantic_chunker.create_documents([judgment_text]) \n",
    "            chunks = []\n",
    "            for doc in docs:\n",
    "                chunks.append(doc.page_content)\n",
    "             \n",
    "            chunk_embeddings = [encoder_model.encode(chunk).tolist() for chunk in chunks]\n",
    " \n",
    "            for idx, chunk in enumerate(chunks):\n",
    "                chunk_id = f\"{filename}_chunk_{idx}\"\n",
    "                print(chunk_embeddings[idx])\n",
    "                collection.add(\n",
    "                    documents=[chunk],\n",
    "                    embeddings=[chunk_embeddings[idx]],\n",
    "                    ids=[chunk_id]\n",
    "                )\n",
    " \n",
    "            print(f\"Added semantic chunks of {filename} to ChromaDB\")\n",
    "    return encoder_model"
   ]
  },
  {
   "cell_type": "code",
   "execution_count": null,
   "metadata": {},
   "outputs": [],
   "source": [
    "# Initialize the ChromaDB collection\n",
    "collection = init_chromadb(COLLECTION_NAME)\n",
    "\n",
    "# Add documents to the collection and update the encoder model\n",
    "add_documents_to_chromadb(collection, TXT_DIRECTORY, encoder_model, semantic_chunker)"
   ]
  }
 ],
 "metadata": {
  "kernelspec": {
   "display_name": "Python 3",
   "language": "python",
   "name": "python3"
  },
  "language_info": {
   "name": "python",
   "version": "3.12.1"
  }
 },
 "nbformat": 4,
 "nbformat_minor": 2
}
