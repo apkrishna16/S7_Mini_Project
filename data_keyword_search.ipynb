{
 "cells": [
  {
   "cell_type": "code",
   "execution_count": 9,
   "metadata": {},
   "outputs": [],
   "source": [
    "# Import necessary libraries and modules\n",
    "import os\n",
    "from langchain.docstore.document import Document\n",
    "from langchain.text_splitter import RecursiveCharacterTextSplitter\n",
    "from rank_bm25 import BM25Okapi\n",
    "import pickle"
   ]
  },
  {
   "cell_type": "code",
   "execution_count": 10,
   "metadata": {},
   "outputs": [],
   "source": [
    "# Directory and file paths\n",
    "JUDGMENTS_DIR = \"Judgement_txt\"   \n",
    "CHUNKED_DOCS_FILE = \"chunked_documents.pkl\"  \n",
    "BM25_RETRIEVER_FILE = \"bm25_retriever.pkl\"   "
   ]
  },
  {
   "cell_type": "code",
   "execution_count": 11,
   "metadata": {},
   "outputs": [],
   "source": [
    "def chunk_and_store_documents(judgments_dir):\n",
    "    \"\"\"\n",
    "    Processes judgment text files by splitting them into manageable chunks, \n",
    "    stores the chunked documents on disk, and creates a BM25Retriever for retrieval.\n",
    "\n",
    "    Parameters:\n",
    "    - judgments_dir: The directory containing judgment text files.\n",
    "\n",
    "    Output:\n",
    "    - None: Outputs include the chunked documents and BM25Retriever saved to disk.\n",
    "    \"\"\"\n",
    "    documents = []   \n",
    " \n",
    "    for filename in os.listdir(judgments_dir):\n",
    "        if filename.endswith(\".txt\"):   \n",
    "            file_path = os.path.join(judgments_dir, filename)\n",
    "            with open(file_path, \"r\", encoding=\"utf-8\") as file:\n",
    "                content = file.read()   \n",
    "                documents.append(Document(page_content=content, metadata={\"source\": filename}))\n",
    "\n",
    "    \n",
    "    text_splitter = RecursiveCharacterTextSplitter(chunk_size=1000, chunk_overlap=100)  \n",
    "    chunked_docs = text_splitter.split_documents(documents)  \n",
    " \n",
    "    with open(CHUNKED_DOCS_FILE, \"wb\") as f:\n",
    "        pickle.dump(chunked_docs, f)   \n",
    "    print(f\"Chunked documents stored in {CHUNKED_DOCS_FILE}\")\n",
    "\n",
    "    tokenized_chunks = []   \n",
    "    for doc in chunked_docs:\n",
    "        content = doc.page_content   \n",
    "        doc_tokens = content.split()  \n",
    "        tokenized_chunks.append(doc_tokens)   \n",
    "\n",
    "    retriever = BM25Okapi(tokenized_chunks)   \n",
    " \n",
    "    with open(BM25_RETRIEVER_FILE, \"wb\") as f:\n",
    "        pickle.dump(retriever, f)   \n",
    "    print(f\"BM25Retriever stored in {BM25_RETRIEVER_FILE}\")\n",
    "\n"
   ]
  },
  {
   "cell_type": "code",
   "execution_count": null,
   "metadata": {},
   "outputs": [],
   "source": [
    "# Process and store judgment text files with chunking and retrieval setup.\n",
    "chunk_and_store_documents(JUDGMENTS_DIR)"
   ]
  },
  {
   "cell_type": "code",
   "execution_count": null,
   "metadata": {},
   "outputs": [],
   "source": [
    "# def find_query(query, top_k=5): \n",
    "#     with open(BM25_RETRIEVER_FILE, \"rb\") as f:\n",
    "#         retriever = pickle.load(f)\n",
    "\n",
    "#     with open(CHUNKED_DOCS_FILE, \"rb\") as f:\n",
    "#         corpus = pickle.load(f)\n",
    "    \n",
    "#     processed_query = query.split() \n",
    "#     results = retriever.get_top_n(processed_query, corpus, top_k) \n",
    "\n",
    "#     for i, result in enumerate(results):\n",
    "#         print(f\"Result {i + 1}:\")\n",
    "#         print(f\"Content: {result.page_content[:500]}...\")\n",
    "#         print(f\"Source: {result.metadata['source']}\")\n",
    "#         print(\"-\" * 50)\n",
    "\n",
    "#     return results"
   ]
  },
  {
   "cell_type": "code",
   "execution_count": null,
   "metadata": {},
   "outputs": [],
   "source": [
    "# query = \"What is the main constitutional challenge presented in the petition under Article 32 of the Indian Constitution regarding the U.P. Land Tenures (Regulation of Transfers) Act 1952 and the Indian Forest (U.P. Amendment) Act 1956?\"\n",
    "# results = find_query(query)"
   ]
  }
 ],
 "metadata": {
  "kernelspec": {
   "display_name": "Python 3",
   "language": "python",
   "name": "python3"
  },
  "language_info": {
   "codemirror_mode": {
    "name": "ipython",
    "version": 3
   },
   "file_extension": ".py",
   "mimetype": "text/x-python",
   "name": "python",
   "nbconvert_exporter": "python",
   "pygments_lexer": "ipython3",
   "version": "3.12.1"
  }
 },
 "nbformat": 4,
 "nbformat_minor": 2
}
